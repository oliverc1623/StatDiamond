{
 "cells": [
  {
   "cell_type": "code",
   "execution_count": 1,
   "metadata": {},
   "outputs": [],
   "source": [
    "import math\n",
    "import numpy as np\n",
    "import matplotlib.pyplot as plt\n",
    "import seaborn as sns\n",
    "import pandas as pd\n",
    "pd.set_option('display.max_columns', None)\n",
    "from IPython.display import display\n",
    "\n",
    "from pybaseball import statcast_pitcher\n",
    "from pybaseball import playerid_lookup"
   ]
  },
  {
   "cell_type": "code",
   "execution_count": 2,
   "metadata": {},
   "outputs": [
    {
     "name": "stderr",
     "output_type": "stream",
     "text": [
      "/var/folders/w0/3ttb6cs14rq8l4ggd5r1v9440000gn/T/ipykernel_70074/806051061.py:1: DtypeWarning: Columns (43,87,88) have mixed types. Specify dtype option on import or set low_memory=False.\n",
      "  df = pd.read_csv(\"../data/kershaw.csv\")\n"
     ]
    }
   ],
   "source": [
    "df = pd.read_csv(\"../data/kershaw.csv\")\n",
    "df['year'] = pd.DatetimeIndex(df['game_date']).year  # separate year from date\n",
    "df['month'] = pd.DatetimeIndex(df['game_date']).month\n",
    "df_2008 = df[df['year']==2008]\n",
    "df_2017_season = df[(df['year']==2017) & (df['month'] >= 4)]"
   ]
  },
  {
   "cell_type": "code",
   "execution_count": 3,
   "metadata": {},
   "outputs": [],
   "source": [
    "states = {(0,0): 0,\n",
    "          (1,0): 1,\n",
    "          (2,0): 2,\n",
    "          (3,0): 3,\n",
    "          (0,1): 4,\n",
    "          (0,2): 5,\n",
    "          (1,1): 6,\n",
    "          (1,2): 7,\n",
    "          (2,1): 8,\n",
    "          (2,2): 9,\n",
    "          (3,1): 10,\n",
    "          (3,2): 11,\n",
    "          \"Out\": 12, \n",
    "          \"Single\": 13, \n",
    "          \"Double\": 14, \n",
    "          \"Triple\": 15, \n",
    "          \"HR\": 16, \n",
    "          \"Walk\": 17}"
   ]
  },
  {
   "cell_type": "code",
   "execution_count": 4,
   "metadata": {},
   "outputs": [],
   "source": [
    "df_simple = df_2017_season.filter(items=['balls',\n",
    "                             'strikes',\n",
    "                             'events',\n",
    "                             'description',\n",
    "                             'game_date'])\n",
    "df_simple = df_simple.iloc[::-1] # reverse order from earliest to latest\n",
    "non_terminal_states = list(zip(df_simple.balls, df_simple.strikes))\n",
    "df_simple['non_terminal_states'] = non_terminal_states\n",
    "df_simple = df_simple.reset_index()\n",
    "\n",
    "#create unique list of names\n",
    "unique_games = df_simple.game_date.unique()\n",
    "DataFrameDict = {elem : pd.DataFrame() for elem in unique_games}\n",
    "\n",
    "for key in DataFrameDict.keys():\n",
    "    DataFrameDict[key] = df_simple[:][df_simple.game_date == key]"
   ]
  },
  {
   "cell_type": "code",
   "execution_count": 26,
   "metadata": {},
   "outputs": [],
   "source": [
    "def get_pitch_sequence(df_game):\n",
    "    pitch_seq_swing = []\n",
    "    pitch_seq_stand = []\n",
    "    for i, row in df_game.iterrows():\n",
    "        event = row['events']\n",
    "        if (str(event) == \"nan\" and \n",
    "            (row['description'] == 'foul' or \n",
    "             row['description'] == 'swinging_strike' or \n",
    "             row['description'] == 'foul_tip' or\n",
    "             row['description'] == 'swinging_strike_blocked' or\n",
    "             row['description'] == 'foul_bunt' or \n",
    "             row['description'] == 'missed_bunt')):\n",
    "            pitch_seq_swing.append(states[row['non_terminal_states']])\n",
    "        elif (str(event) == \"nan\" and \n",
    "            (row['description'] == 'called_strike' or \n",
    "             row['description'] == 'ball')):\n",
    "             pitch_seq_stand.append(states[row['non_terminal_states']])\n",
    "    return pitch_seq_swing, pitch_seq_stand"
   ]
  },
  {
   "cell_type": "code",
   "execution_count": 27,
   "metadata": {},
   "outputs": [],
   "source": [
    "def count_transitions(pitch_seq):\n",
    "    n = 1+ max(pitch_seq) #number of states\n",
    "    M = [[0]*n for _ in range(n)]\n",
    "    for (i,j) in zip(pitch_seq,pitch_seq[1:]):\n",
    "        M[i][j] += 1\n",
    "    return np.array(M)"
   ]
  },
  {
   "cell_type": "code",
   "execution_count": 28,
   "metadata": {},
   "outputs": [],
   "source": [
    "def get_probabilities(m):\n",
    "    for row in m:\n",
    "        s = sum(row)\n",
    "        if s > 0:\n",
    "            row[:] = [f/s for f in row]\n",
    "    return m"
   ]
  },
  {
   "cell_type": "code",
   "execution_count": 38,
   "metadata": {},
   "outputs": [
    {
     "name": "stdout",
     "output_type": "stream",
     "text": [
      "Pitch transition probability under swing\n",
      "0.17 0.09 0.01 0.00 0.35 0.04 0.19 0.04 0.09 0.02 0.01 0.00\n",
      "0.00 0.11 0.02 0.00 0.07 0.00 0.44 0.00 0.18 0.02 0.03 0.01\n",
      "0.00 0.00 0.00 0.00 0.12 0.00 0.08 0.00 0.36 0.04 0.08 0.04\n",
      "0.00 0.00 0.00 0.00 0.00 0.00 0.00 0.00 0.00 0.00 0.00 0.00\n",
      "0.00 0.00 0.00 0.00 0.09 0.17 0.07 0.07 0.04 0.05 0.00 0.02\n",
      "0.00 0.00 0.00 0.00 0.00 0.06 0.00 0.10 0.06 0.03 0.03 0.03\n",
      "0.00 0.00 0.00 0.00 0.00 0.00 0.07 0.18 0.02 0.11 0.01 0.08\n",
      "0.00 0.00 0.00 0.00 0.00 0.00 0.00 0.30 0.08 0.13 0.00 0.04\n",
      "0.00 0.00 0.00 0.00 0.00 0.00 0.00 0.00 0.06 0.23 0.00 0.14\n",
      "0.00 0.00 0.00 0.00 0.00 0.00 0.00 0.00 0.00 0.28 0.00 0.07\n",
      "0.00 0.00 0.00 0.00 0.00 0.00 0.00 0.00 0.00 0.00 0.00 0.44\n",
      "0.00 0.00 0.00 0.00 0.00 0.00 0.00 0.00 0.00 0.00 0.00 0.24\n",
      "\n",
      "Pitch transition probability under stand\n",
      "0.23 0.20 0.00 0.00 0.35 0.08 0.09 0.03 0.01 0.00 0.00 0.00\n",
      "0.00 0.00 0.18 0.00 0.06 0.01 0.21 0.08 0.09 0.03 0.00 0.00\n",
      "0.00 0.00 0.00 0.32 0.05 0.00 0.00 0.00 0.32 0.05 0.00 0.00\n",
      "0.00 0.00 0.00 0.00 0.00 0.20 0.00 0.00 0.00 0.00 0.00 0.00\n",
      "0.00 0.00 0.00 0.00 0.07 0.15 0.30 0.11 0.00 0.01 0.00 0.00\n",
      "0.00 0.00 0.00 0.00 0.00 0.02 0.00 0.44 0.00 0.00 0.00 0.00\n",
      "0.00 0.00 0.00 0.00 0.00 0.00 0.01 0.11 0.13 0.12 0.00 0.00\n",
      "0.00 0.00 0.00 0.00 0.00 0.00 0.00 0.01 0.00 0.40 0.00 0.00\n",
      "0.00 0.00 0.00 0.00 0.00 0.00 0.00 0.00 0.00 0.23 0.20 0.00\n",
      "0.00 0.00 0.00 0.00 0.00 0.00 0.00 0.00 0.00 0.01 0.00 0.00\n",
      "0.00 0.00 0.00 0.00 0.00 0.00 0.00 0.00 0.00 0.00 0.00 0.00\n",
      "0.00 0.00 0.00 0.00 0.00 0.00 0.00 0.00 0.00 0.00 0.00 0.00\n"
     ]
    }
   ],
   "source": [
    "all_swing_matrices = []\n",
    "all_stand_matrices = []\n",
    "\n",
    "for game_date, game_df in DataFrameDict.items():\n",
    "    pitch_sequence_swing, pitch_sequence_stand = get_pitch_sequence(game_df)\n",
    "\n",
    "    m_swing = count_transitions(pitch_sequence_swing)\n",
    "    m_stand = count_transitions(pitch_sequence_stand)\n",
    "\n",
    "    pad_len_swing = 12 - len(m_swing)\n",
    "    pad_len_stand = 12 - len(m_stand)\n",
    "\n",
    "    m_swing = np.pad(m_swing, (0, pad_len_swing), mode=\"constant\")\n",
    "    m_stand = np.pad(m_stand, (0, pad_len_stand), mode=\"constant\")\n",
    "\n",
    "    all_swing_matrices.append(m_swing)\n",
    "    all_stand_matrices.append(m_stand)\n",
    "\n",
    "all_swing_matrices = np.array(all_swing_matrices)\n",
    "all_stand_matrices = np.array(all_stand_matrices) \n",
    "\n",
    "M_swing = sum(all_swing_matrices)\n",
    "M_stand = sum(all_stand_matrices)\n",
    "\n",
    "M_swing = get_probabilities(M_swing.tolist())\n",
    "M_stand = get_probabilities(M_stand.tolist())\n",
    "\n",
    "M_swing = np.triu(np.array(M_swing))\n",
    "M_stand = np.triu(np.array(M_stand))\n",
    "\n",
    "print(\"Pitch transition probability under swing\")\n",
    "for row in M_swing: print(' '.join('{0:.2f}'.format(x) for x in row))\n",
    "print(\"\")\n",
    "print(\"Pitch transition probability under stand\")\n",
    "for row in M_stand: print(' '.join('{0:.2f}'.format(x) for x in row))"
   ]
  },
  {
   "cell_type": "markdown",
   "metadata": {},
   "source": [
    "## Visualization"
   ]
  },
  {
   "cell_type": "code",
   "execution_count": 280,
   "metadata": {},
   "outputs": [
    {
     "data": {
      "text/plain": [
       "Index(['(0,0)', '(1,0)', '(2,0)', '(3,0)', '(0,1)', '(0,2)', '(1,1)', '(1,2)',\n",
       "       '(2,1)', '(2,2)', '(3,1)', '(3,2)'],\n",
       "      dtype='object')"
      ]
     },
     "execution_count": 280,
     "metadata": {},
     "output_type": "execute_result"
    }
   ],
   "source": [
    "M = pd.DataFrame(M)\n",
    "M = M.rename(columns={\n",
    "                  0:\"(0,0)\",\n",
    "                  1:\"(1,0)\",\n",
    "                  2:\"(2,0)\",\n",
    "                  3:\"(3,0)\",\n",
    "                  4:\"(0,1)\",\n",
    "                  5:\"(0,2)\",\n",
    "                  6:\"(1,1)\",\n",
    "                  7:\"(1,2)\",\n",
    "                  8:\"(2,1)\",\n",
    "                  9:\"(2,2)\",\n",
    "                  10:\"(3,1)\",\n",
    "                  11:\"(3,2)\"})\n",
    "M"
   ]
  },
  {
   "cell_type": "code",
   "execution_count": 282,
   "metadata": {},
   "outputs": [
    {
     "data": {
      "text/plain": [
       "<Axes: >"
      ]
     },
     "execution_count": 282,
     "metadata": {},
     "output_type": "execute_result"
    },
    {
     "data": {
      "image/png": "[encoded data removed]",
      "text/plain": [
       "<Figure size 640x480 with 2 Axes>"
      ]
     },
     "metadata": {},
     "output_type": "display_data"
    }
   ],
   "source": [
    "sns.heatmap(M, xticklabels=M.columns, yticklabels=M.columns)"
   ]
  }
 ],
 "metadata": {
  "kernelspec": {
   "display_name": "stats",
   "language": "python",
   "name": "python3"
  },
  "language_info": {
   "codemirror_mode": {
    "name": "ipython",
    "version": 3
   },
   "file_extension": ".py",
   "mimetype": "text/x-python",
   "name": "python",
   "nbconvert_exporter": "python",
   "pygments_lexer": "ipython3",
   "version": "3.10.12"
  },
  "orig_nbformat": 4
 },
 "nbformat": 4,
 "nbformat_minor": 2
}
